{
 "cells": [
  {
   "cell_type": "code",
   "execution_count": 1,
   "metadata": {},
   "outputs": [],
   "source": [
    "import openai\n",
    "from llama_index.agent import OpenAIAgent\n",
    "from dotenv import load_dotenv\n",
    "import os"
   ]
  },
  {
   "cell_type": "code",
   "execution_count": 2,
   "metadata": {},
   "outputs": [],
   "source": [
    "load_dotenv()\n",
    "api_key = os.getenv('OPENAI_API_KEY')"
   ]
  },
  {
   "cell_type": "code",
   "execution_count": 3,
   "metadata": {},
   "outputs": [],
   "source": [
    "openai.api_key = api_key"
   ]
  },
  {
   "cell_type": "code",
   "execution_count": 5,
   "metadata": {},
   "outputs": [],
   "source": [
    "from llama_hub.tools.code_interpreter.base import CodeInterpreterToolSpec\n",
    "\n",
    "code_spec = CodeInterpreterToolSpec()\n",
    "tools = code_spec.to_tool_list()\n",
    "\n",
    "# Create the new agent for this \n",
    "agent = OpenAIAgent.from_tools(tools, verbose=True)"
   ]
  },
  {
   "cell_type": "code",
   "execution_count": 6,
   "metadata": {},
   "outputs": [
    {
     "name": "stdout",
     "output_type": "stream",
     "text": [
      "Of course! I'd be happy to help you write some Python code. What specific task or problem would you like the code to solve?\n"
     ]
    }
   ],
   "source": [
    "# Prime the Agent to use the tool\n",
    "print(agent.chat(\"Can you help me write some python code to pass to the code_interpreter tool\"))"
   ]
  },
  {
   "cell_type": "code",
   "execution_count": 10,
   "metadata": {},
   "outputs": [
    {
     "name": "stdout",
     "output_type": "stream",
     "text": [
      "=== Calling Function ===\n",
      "Calling function: code_interpreter with args: {\n",
      "  \"code\": \"import pandas as pd\\n\\n# Read the metadata CSV file\\ndf_metadata = pd.read_csv('metadata.csv')\\n\\n# Get the column names of the metadata file\\ncolumns_metadata = df_metadata.columns.tolist()\\n\\n# Print the column names of the metadata file\\nprint('Metadata columns:', columns_metadata)\\n\\n# Read the numerical data CSV file\\ndf_numerical = pd.read_csv('MacLab_RNAseq_mouse_invitro_cold_one_vs_zero.csv')\\n\\n# Calculate the mean of the numerical data\\nmean_numerical = df_numerical.mean()\\n\\n# Print the mean of the numerical data\\nprint('Mean of numerical data:', mean_numerical)\"\n",
      "}\n",
      "Got output: StdOut:\n",
      "b\"Metadata columns: ['ID', 'Experiment type', 'Species', 'Comparison (Treatment)', 'Comparison (Control)', 'Experiment ID', 'Experimental design', 'GEO accession number', 'Link to publication', 'Contact', 'Raw and processed file storage location']\\r\\nMean of numerical data: baseMean          4693.188686\\r\\nlog2FoldChange      -0.054198\\r\\npadj                 0.196334\\r\\ndtype: float64\\r\\n\"\n",
      "StdErr:\n",
      "b\"<string>:16: FutureWarning: The default value of numeric_only in DataFrame.mean is deprecated. In a future version, it will default to False. In addition, specifying 'numeric_only=None' is deprecated. Select only valid columns or specify the value of numeric_only to silence this warning.\\r\\n\"\n",
      "========================\n",
      "The metadata file `metadata.csv` has the following columns:\n",
      "- ID\n",
      "- Experiment type\n",
      "- Species\n",
      "- Comparison (Treatment)\n",
      "- Comparison (Control)\n",
      "- Experiment ID\n",
      "- Experimental design\n",
      "- GEO accession number\n",
      "- Link to publication\n",
      "- Contact\n",
      "- Raw and processed file storage location\n",
      "\n",
      "To analyze the RNAseq data in the file `MacLab_RNAseq_mouse_invitro_cold_one_vs_zero.csv`, you can use the following code:\n",
      "\n",
      "```python\n",
      "import pandas as pd\n",
      "\n",
      "# Read the numerical data CSV file\n",
      "df_numerical = pd.read_csv('MacLab_RNAseq_mouse_invitro_cold_one_vs_zero.csv')\n",
      "\n",
      "# Calculate the mean of the numerical data\n",
      "mean_numerical = df_numerical.mean()\n",
      "\n",
      "# Print the mean of the numerical data\n",
      "print('Mean of numerical data:', mean_numerical)\n",
      "```\n",
      "\n",
      "The mean of the numerical data is as follows:\n",
      "- baseMean: 4693.188686\n",
      "- log2FoldChange: -0.054198\n",
      "- padj: 0.196334\n",
      "\n",
      "To analyze RNAseq data, there are several approaches you can consider. Here are a few common methods:\n",
      "\n",
      "1. Differential Expression Analysis: Compare gene expression levels between different conditions or treatments to identify genes that are differentially expressed. This can be done using tools like DESeq2, edgeR, or limma-voom.\n",
      "\n",
      "2. Gene Set Enrichment Analysis (GSEA): Determine whether a predefined set of genes shows statistically significant differences in expression between different conditions. This can help identify biological pathways or functions that are enriched in the dataset.\n",
      "\n",
      "3. Clustering Analysis: Group genes or samples based on their expression patterns to identify co-regulated genes or distinct sample subtypes. This can be done using techniques like hierarchical clustering or k-means clustering.\n",
      "\n",
      "4. Visualization: Use plots and visualizations to explore the data and identify patterns or outliers. Common visualization techniques include heatmaps, volcano plots, scatter plots, and box plots.\n",
      "\n",
      "5. Functional Annotation: Annotate genes with functional information, such as gene ontology terms or pathway annotations, to gain insights into the biological processes or pathways associated with differentially expressed genes.\n",
      "\n",
      "The choice of analysis method depends on the specific research question and the characteristics of the dataset. It is often helpful to consult with a bioinformatics expert or refer to relevant literature to determine the most appropriate analysis approach for your RNAseq data.\n"
     ]
    }
   ],
   "source": [
    "print(agent.chat(\"\"\"There is a metadata.csv file in the this directory.\n",
    "                 Can you write and execute code to tell me columns does it have? There is also a file called MacLab_RNAseq_mouse_invitro_cold_one_vs_zero.csv that is more numerical data that I would like to know the mean of. Can you write and execute code to tell me how to analyze this data with python? The metadata.csv file should have information about this file to help you. What is the best way to analyse the RNAseq data?\"\"\"))"
   ]
  },
  {
   "cell_type": "code",
   "execution_count": null,
   "metadata": {},
   "outputs": [],
   "source": []
  }
 ],
 "metadata": {
  "kernelspec": {
   "display_name": "base",
   "language": "python",
   "name": "python3"
  },
  "language_info": {
   "codemirror_mode": {
    "name": "ipython",
    "version": 3
   },
   "file_extension": ".py",
   "mimetype": "text/x-python",
   "name": "python",
   "nbconvert_exporter": "python",
   "pygments_lexer": "ipython3",
   "version": "3.9.13"
  },
  "orig_nbformat": 4
 },
 "nbformat": 4,
 "nbformat_minor": 2
}
